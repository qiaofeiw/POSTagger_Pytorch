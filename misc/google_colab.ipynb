{
 "cells": [
  {
   "cell_type": "code",
   "execution_count": 0,
   "metadata": {
    "colab": {},
    "colab_type": "code",
    "id": "J2yNvidJ7YYc"
   },
   "outputs": [],
   "source": [
    "from google.colab import drive\n",
    "drive.mount('/content/gdrive')\n",
    "import sys\n",
    "sys.path.append('/content/gdrive/My Drive/Colab Notebooks/POSTagger_Pytorch')"
   ]
  },
  {
   "cell_type": "code",
   "execution_count": 0,
   "metadata": {
    "colab": {},
    "colab_type": "code",
    "id": "SHn89ZVC8aoa"
   },
   "outputs": [],
   "source": [
    "!pip install -q conllu\n",
    "!pip install -q xmltodict"
   ]
  },
  {
   "cell_type": "code",
   "execution_count": 0,
   "metadata": {
    "colab": {},
    "colab_type": "code",
    "id": "gL5ekUuH8MOs"
   },
   "outputs": [],
   "source": [
    "from src.trainer import trainer\n",
    "from src.util.data import get_languages\n",
    "from torch import cuda"
   ]
  },
  {
   "cell_type": "code",
   "execution_count": 0,
   "metadata": {
    "colab": {},
    "colab_type": "code",
    "id": "rRoOY5t885t3"
   },
   "outputs": [],
   "source": [
    "all_langs = get_languages()"
   ]
  },
  {
   "cell_type": "code",
   "execution_count": null,
   "metadata": {},
   "outputs": [],
   "source": [
    "configs = {'n_epochs': 30, 'word_embed_dim': 128, 'char_embed_dim': 100,\n",
    "           'char_hidden_dim': 100, 'word_hidden_dim': 100, 'optimizer': 'Adam', \n",
    "           'lr': 0.0001, 'use_gpu': True, 'save_model': False}"
   ]
  },
  {
   "cell_type": "code",
   "execution_count": 0,
   "metadata": {
    "colab": {},
    "colab_type": "code",
    "id": "nssCGbJuRJlQ"
   },
   "outputs": [],
   "source": [
    "trained = ['Italian', 'Serbian', 'Turkish', 'Ancient_Greek', 'Latvian', 'Lithuanian', 'Slovak', 'Chinese', 'English', 'Coptic', 'Basque', 'Vietnamese', 'Danish', 'Norwegian',\n",
    "          'Ukrainian', 'Hebrew', 'Arabic', 'Gothic', 'Telugu','Catalan', 'Swedish', 'Maltese', 'Slovenian', 'Japanese', 'Czech', 'Afrikaans', 'Spanish', 'Hungarian', 'Estonian',\n",
    "          'Urdu', 'Persian', 'Swedish_Sign_Language', 'Uyghur', 'Old_French','Tamil', 'Hindi', 'Romanian', 'German', 'Polish', 'Finnish', 'Korean', 'Greek', 'Portuguese', 'Galician']\n",
    "for lang in all_langs:\n",
    "  if lang not in trained:\n",
    "    print(lang, all_langs[lang].repo)\n",
    "    test_acc = trainer(all_langs[lang], configs)\n",
    "    print('test acc: %.3f%% \\n' % test_acc)"
   ]
  }
 ],
 "metadata": {
  "accelerator": "GPU",
  "colab": {
   "collapsed_sections": [],
   "name": "main.ipynb",
   "provenance": [],
   "version": "0.3.2"
  },
  "kernelspec": {
   "display_name": "Python 3",
   "language": "python",
   "name": "python3"
  },
  "language_info": {
   "codemirror_mode": {
    "name": "ipython",
    "version": 3
   },
   "file_extension": ".py",
   "mimetype": "text/x-python",
   "name": "python",
   "nbconvert_exporter": "python",
   "pygments_lexer": "ipython3",
   "version": "3.6.7"
  }
 },
 "nbformat": 4,
 "nbformat_minor": 1
}
