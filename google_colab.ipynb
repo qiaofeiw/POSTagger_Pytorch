{
  "nbformat": 4,
  "nbformat_minor": 0,
  "metadata": {
    "colab": {
      "name": "main.ipynb",
      "version": "0.3.2",
      "provenance": [],
      "collapsed_sections": []
    },
    "kernelspec": {
      "name": "python3",
      "display_name": "Python 3"
    },
    "accelerator": "GPU"
  },
  "cells": [
    {
      "metadata": {
        "id": "J2yNvidJ7YYc",
        "colab_type": "code",
        "colab": {}
      },
      "cell_type": "code",
      "source": [
        "from google.colab import drive\n",
        "drive.mount('/content/gdrive')\n",
        "import sys\n",
        "sys.path.append('/content/gdrive/My Drive/Colab Notebooks/POSTagger_Pytorch')"
      ],
      "execution_count": 0,
      "outputs": []
    },
    {
      "metadata": {
        "id": "SHn89ZVC8aoa",
        "colab_type": "code",
        "colab": {}
      },
      "cell_type": "code",
      "source": [
        "!pip install -q conllu\n",
        "!pip install -q xmltodict"
      ],
      "execution_count": 0,
      "outputs": []
    },
    {
      "metadata": {
        "id": "gL5ekUuH8MOs",
        "colab_type": "code",
        "colab": {}
      },
      "cell_type": "code",
      "source": [
        "from src.trainer import trainer\n",
        "from src.util.data import get_languages\n",
        "from torch import cuda"
      ],
      "execution_count": 0,
      "outputs": []
    },
    {
      "metadata": {
        "id": "rRoOY5t885t3",
        "colab_type": "code",
        "colab": {}
      },
      "cell_type": "code",
      "source": [
        "languages = [t for t in get_languages()]"
      ],
      "execution_count": 0,
      "outputs": []
    },
    {
      "metadata": {
        "id": "nssCGbJuRJlQ",
        "colab_type": "code",
        "colab": {}
      },
      "cell_type": "code",
      "source": [
        "configs = {'n_epochs': 50, 'word_embed_dim': 128, 'char_embed_dim': 100,\n",
        "           'char_hidden_dim': 100, 'word_hidden_dim': 100, 'optimizer': 'Adam', \n",
        "           'lr': 0.0001, 'use_gpu': True, 'save_model': True}\n",
        "for lang in languages:\n",
        "  trainer(lang, configs)"
      ],
      "execution_count": 0,
      "outputs": []
    }
  ]
}